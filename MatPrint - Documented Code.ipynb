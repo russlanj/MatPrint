{
 "cells": [
  {
   "cell_type": "markdown",
   "id": "37b08608",
   "metadata": {},
   "source": [
    "# Needed Libraries"
   ]
  },
  {
   "cell_type": "markdown",
   "id": "cbb17add",
   "metadata": {},
   "source": [
    "requires numpy>=1.21.5, pandas>=1.4.2, PIL>=9.0.1, pymatgen>=2.0.0, patchify>=0.2.3"
   ]
  },
  {
   "cell_type": "code",
   "execution_count": 1,
   "id": "17a31919",
   "metadata": {},
   "outputs": [
    {
     "name": "stderr",
     "output_type": "stream",
     "text": [
      "C:\\Users\\User\\anaconda3\\lib\\site-packages\\numpy\\_distributor_init.py:30: UserWarning: loaded more than 1 DLL from .libs:\n",
      "C:\\Users\\User\\anaconda3\\lib\\site-packages\\numpy\\.libs\\libopenblas.EL2C6PLE4ZYW3ECEVIV3OXXGRN2NRFM2.gfortran-win_amd64.dll\n",
      "C:\\Users\\User\\anaconda3\\lib\\site-packages\\numpy\\.libs\\libopenblas.GK7GX5KEQ4F6UYO3P26ULGBQYHGQO7J4.gfortran-win_amd64.dll\n",
      "C:\\Users\\User\\anaconda3\\lib\\site-packages\\numpy\\.libs\\libopenblas.WCDJNK7YVMPZQ2ME2ZZHJJRJ3JIKNDB7.gfortran-win_amd64.dll\n",
      "  warnings.warn(\"loaded more than 1 DLL from .libs:\"\n"
     ]
    }
   ],
   "source": [
    "import numpy as np\n",
    "import pandas as pd\n",
    "import random\n",
    "import pymatgen.core as pg\n",
    "import matplotlib.pyplot as plt\n",
    "import numpy as np\n",
    "import struct\n",
    "import os\n",
    "import sys\n",
    "import struct\n",
    "import PIL as pil\n",
    "from PIL import Image\n",
    "from patchify import patchify, unpatchify"
   ]
  },
  {
   "cell_type": "markdown",
   "id": "4ea3ebe4",
   "metadata": {},
   "source": [
    "# Functions"
   ]
  },
  {
   "cell_type": "markdown",
   "id": "f373a57b",
   "metadata": {},
   "source": [
    "Functions that allow the main MatPrint function to work"
   ]
  },
  {
   "cell_type": "code",
   "execution_count": 2,
   "id": "e8bfa400",
   "metadata": {},
   "outputs": [],
   "source": [
    "#1 MinMax function \n",
    "def minmax_normalize(arr):\n",
    "    # Find the minimum and maximum values in the array\n",
    "    min_val = min(arr)\n",
    "    max_val = max(arr)\n",
    "\n",
    "    # Normalize the array using min-max normalization\n",
    "    normalized_arr = [(x - min_val) / (max_val - min_val) for x in arr]\n",
    "\n",
    "    return normalized_arr"
   ]
  },
  {
   "cell_type": "code",
   "execution_count": 3,
   "id": "b9f89025",
   "metadata": {},
   "outputs": [],
   "source": [
    "#2 double to binary using the 754 IEEE standard for compression\n",
    "def double_to_binary(num):\n",
    "    # handleing the NaN value first\n",
    "    if num == 'NaN':\n",
    "        return '0111111111111111111111111111111111111111111111111111111111111111'\n",
    "    else:\n",
    "        # pack the float into a byte string\n",
    "        packed = struct.pack('>d', num)\n",
    "        # unpack the byte string as an unsigned long long\n",
    "        bits = struct.unpack('>Q', packed)[0]\n",
    "        # return the binary representation\n",
    "        return '{:064b}'.format(bits)"
   ]
  },
  {
   "cell_type": "code",
   "execution_count": 4,
   "id": "25fc453d",
   "metadata": {},
   "outputs": [],
   "source": [
    "#3 binary to float using the 754 IEEE standard for de-compression\n",
    "def binary_to_double(binary_str):\n",
    "    # Ensure that the binary string is 64 bits long\n",
    "    if len(binary_str) != 64:\n",
    "        raise ValueError('Input binary string must be 64 bits long')\n",
    "    # Convert the binary string to an integer\n",
    "    int_value = int(binary_str, 2)\n",
    "    # Use the 'struct' module to pack the integer as a 64-bit double\n",
    "    double_value = struct.unpack('d', struct.pack('Q', int_value))[0]\n",
    "    return double_value\n"
   ]
  },
  {
   "cell_type": "markdown",
   "id": "c2edda07",
   "metadata": {},
   "source": [
    "# Import Data"
   ]
  },
  {
   "cell_type": "markdown",
   "id": "1c5c81b1",
   "metadata": {},
   "source": [
    "Import the data that is to be graphically represented, note the data as mentioned in the manuscript has to have all the possible features (composition + crystal) that can be generated using the magpie platform, the features must be 623 in total for a single compound. More information about the features generation process can be obtained at: https://wolverton.bitbucket.io/"
   ]
  },
  {
   "cell_type": "code",
   "execution_count": 5,
   "id": "ee101621",
   "metadata": {},
   "outputs": [],
   "source": [
    "# import the example file for 58 C compounds obtained from Materials Project Database \n",
    "data = pd.read_csv(r'./sample_example.csv')\n",
    "# drop the last column named 'counter' that is added to only for distinguishing puposes.\n",
    "#filename is, well, the poscar filename that is used to generate the features, given in the csv file, but it cam ne any appropriate naming that is considered\n",
    "#those two columns are essential for the next line of code to work, if its changed, please make sure that you change the second line accordingly.\n",
    "#data_dropped, is essentially all the 623 features without the counter and filename.\n",
    "data_dropped = data.drop(['counter','filename'], axis = 'columns')"
   ]
  },
  {
   "cell_type": "markdown",
   "id": "f9bbe7e2",
   "metadata": {},
   "source": [
    "# Main MatPrint Function p.1 - Copmression (Features2Images -- F2I)"
   ]
  },
  {
   "cell_type": "markdown",
   "id": "60a07a11",
   "metadata": {},
   "source": [
    "The function uses the IEEE 754 and the data at hand to generate the grapical representation from tabular csv files"
   ]
  },
  {
   "cell_type": "markdown",
   "id": "09abda1b",
   "metadata": {},
   "source": [
    "**READS A CSV FILE GENERATED BY Magpie**"
   ]
  },
  {
   "cell_type": "code",
   "execution_count": 49,
   "id": "3385c45f",
   "metadata": {},
   "outputs": [],
   "source": [
    "#the MatPrint_F2I is the features to images function, not a lot of arguments are given here in this code, but it is planned that further customization and error handeling will be implmented for this function\n",
    "#make sure to make an empty directory manually to save the images\n",
    "def MatPrint_F2I(all_data, cropped_data, directory):\n",
    "    ones = np.ones((576,64))\n",
    "    counter = 0\n",
    "    counter2 = 0\n",
    "    material_counter = 1\n",
    "    #cropping the last 48 features (initial 624 features are a MUST)\n",
    "    data_dropped = cropped_data[cropped_data.iloc[:,:576].columns]\n",
    "    #looping and binary value generation (initial 624 features are a MUST)\n",
    "    for m in range(len(data_dropped)):\n",
    "        nameing = all_data.loc(0)[m][0]\n",
    "        numpy_data = np.array(data_dropped.loc(0)[m])\n",
    "        binary = []\n",
    "        for f in numpy_data:\n",
    "            binary.append(double_to_binary(f))\n",
    "        counter2 = 0\n",
    "        for j in range(len(binary)):\n",
    "            counter = 0\n",
    "            for k in binary[j]:\n",
    "                ones[counter2][counter] = int(k)\n",
    "                counter = counter + 1\n",
    "            counter2 = counter2 + 1\n",
    "        arr1 = np.array(ones, dtype=np.uint8)*255\n",
    "        #patchify to stitch all the 9 parts of the image together, im sure there is a more optimzed way, but thought this is relatively fas for those ~500 features\n",
    "        patches = patchify(ones, (64,64), step=64)\n",
    "        ar1 = np.pad(patches[0,0,:,:], [(0, 128), (0, 128)], mode='constant', constant_values=1)\n",
    "        ar2 = np.pad(patches[1,0,:,:], [(64, 64), (0, 128)], mode='constant', constant_values=1)\n",
    "        ar3 = np.pad(patches[2,0,:,:], [(128, 0), (0, 128)], mode='constant', constant_values=1)\n",
    "        ar4 = np.pad(patches[3,0,:,:], [(0, 128), (64, 64)], mode='constant', constant_values=1)\n",
    "        ar5 = np.pad(patches[4,0,:,:], [(64, 64), (64, 64)], mode='constant', constant_values=1)\n",
    "        ar6 = np.pad(patches[5,0,:,:], [(128, 0), (64, 64)], mode='constant', constant_values=1)\n",
    "        ar7 = np.pad(patches[6,0,:,:], [(0, 128), (128, 0)], mode='constant', constant_values=1)\n",
    "        ar8 = np.pad(patches[7,0,:,:], [(64, 64), (128, 0)], mode='constant', constant_values=1)\n",
    "        ar9 = np.pad(patches[8,0,:,:], [(128, 0), (128, 0)], mode='constant', constant_values=1)\n",
    "        img = Image.fromarray(arr1)\n",
    "        full_pic = np.ones((192,192))\n",
    "        full_pic = (((((((((full_pic*ar7)*ar8)*ar9)*ar6)*ar5)*ar3)*ar4)*ar2)*ar1)\n",
    "        full = np.array(full_pic, dtype=np.uint8)*255\n",
    "        #transform to image\n",
    "        img_full = Image.fromarray(full)\n",
    "        #output to needed directory, I urge to make a test folder for the example given, but this should be changed if is used for other materials\n",
    "        img_full.save(f'{directory}' + f'{material_counter}_{nameing}' + '.png', dpi = (600,600))\n",
    "        material_counter = material_counter + 1"
   ]
  },
  {
   "cell_type": "markdown",
   "id": "45d73b27",
   "metadata": {},
   "source": [
    "# # Main MatPrint Function p.2 - De-compression (Image2Features -- I2F)"
   ]
  },
  {
   "cell_type": "markdown",
   "id": "414a51c5",
   "metadata": {},
   "source": [
    "The function uses decryptes the MatPrint generated grpahical representation to generate the csv file"
   ]
  },
  {
   "cell_type": "markdown",
   "id": "84dec04c",
   "metadata": {},
   "source": [
    "**READS A FOLDER OF .PNG IMAGES GENERATED BY FUNCTION F2I**"
   ]
  },
  {
   "cell_type": "code",
   "execution_count": 50,
   "id": "550d195d",
   "metadata": {},
   "outputs": [],
   "source": [
    "def MatPrint_I2F(image_directory,output_name):\n",
    "    #read the preset 576 feature names + filename of this work from the provided 'features.txt' file\n",
    "    feature_list = []\n",
    "    with open('./features.txt') as f:\n",
    "        feature_list = [line.rstrip('\\n') for line in f]\n",
    "    #read only .png files in the specific directory that is needed\n",
    "    all_files = os.listdir(image_directory)\n",
    "    png_files=[f for f in all_files if '.png' in f]\n",
    "    #create a dataframe with the feature names of this work\n",
    "    feature_dataframe = pd.DataFrame()\n",
    "    #transfrom the image to csv from the binary data (might not be very optimized)\n",
    "    for i in png_files:\n",
    "        data_image = Image.open(f'./{image_directory}/{i}')\n",
    "        num_image = np.array(np.asarray(data_image)/255,dtype=np.uint8)\n",
    "        num_feature = num_image[0:192,0:64]\n",
    "        num_feature2 = num_image[0:192,64:128]\n",
    "        num_feature3 =num_image[0:192, 128:192]\n",
    "        num1_2 = np.concatenate((num_feature, num_feature2), axis=0)\n",
    "        num2_3 =  np.concatenate((num1_2, num_feature3), axis=0)\n",
    "        features = []\n",
    "        naming = i\n",
    "        features.append(naming)\n",
    "        #creating the dataframe from hte given folder\n",
    "        for j in num2_3:\n",
    "            binary = ''.join(str(k) for k in j)\n",
    "            features.append(binary_to_double(str(binary)))\n",
    "        feature_dataframe = feature_dataframe.append(pd.Series(features), ignore_index=True)\n",
    "    feature_dataframe.columns = feature_list\n",
    "    feature_dataframe.to_csv(f'{output_name}.csv', na_rep='NaN', index=False)"
   ]
  },
  {
   "cell_type": "markdown",
   "id": "4b23cf91",
   "metadata": {},
   "source": [
    "# Using the given example"
   ]
  },
  {
   "cell_type": "code",
   "execution_count": 51,
   "id": "a9397883",
   "metadata": {},
   "outputs": [],
   "source": [
    "MatPrint_F2I(data, data_dropped,'./test/')"
   ]
  },
  {
   "cell_type": "code",
   "execution_count": 52,
   "id": "b2e1f58c",
   "metadata": {},
   "outputs": [
    {
     "name": "stderr",
     "output_type": "stream",
     "text": [
      "<ipython-input-50-f1ae11669908>:27: FutureWarning: The frame.append method is deprecated and will be removed from pandas in a future version. Use pandas.concat instead.\n",
      "  feature_dataframe = feature_dataframe.append(pd.Series(features), ignore_index=True)\n"
     ]
    }
   ],
   "source": [
    "MatPrint_I2F('test','samples_decompressed')"
   ]
  },
  {
   "cell_type": "code",
   "execution_count": null,
   "id": "f828fbe8",
   "metadata": {},
   "outputs": [],
   "source": []
  }
 ],
 "metadata": {
  "kernelspec": {
   "display_name": "Python 3",
   "language": "python",
   "name": "python3"
  },
  "language_info": {
   "codemirror_mode": {
    "name": "ipython",
    "version": 3
   },
   "file_extension": ".py",
   "mimetype": "text/x-python",
   "name": "python",
   "nbconvert_exporter": "python",
   "pygments_lexer": "ipython3",
   "version": "3.8.5"
  }
 },
 "nbformat": 4,
 "nbformat_minor": 5
}
